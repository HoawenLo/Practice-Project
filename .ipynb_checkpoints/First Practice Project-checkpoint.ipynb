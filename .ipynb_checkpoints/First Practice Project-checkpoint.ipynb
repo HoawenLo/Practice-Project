{
 "cells": [
  {
   "cell_type": "code",
   "execution_count": 2,
   "id": "a6e144c7",
   "metadata": {},
   "outputs": [],
   "source": [
    "# packages to store and manipulate data\n",
    "import pandas as pd\n",
    "import numpy as np\n",
    "\n",
    "# plotting packages\n",
    "import matplotlib.pyplot as plt\n",
    "import seaborn as sns\n",
    "\n",
    "# model building package\n",
    "import sklearn\n",
    "\n",
    "# package to clean text\n",
    "import re"
   ]
  },
  {
   "cell_type": "code",
   "execution_count": 3,
   "id": "e24e4bc2-e723-4e00-be4a-859fc377ffd7",
   "metadata": {},
   "outputs": [
    {
     "data": {
      "text/html": [
       "<div>\n",
       "<style scoped>\n",
       "    .dataframe tbody tr th:only-of-type {\n",
       "        vertical-align: middle;\n",
       "    }\n",
       "\n",
       "    .dataframe tbody tr th {\n",
       "        vertical-align: top;\n",
       "    }\n",
       "\n",
       "    .dataframe thead th {\n",
       "        text-align: right;\n",
       "    }\n",
       "</style>\n",
       "<table border=\"1\" class=\"dataframe\">\n",
       "  <thead>\n",
       "    <tr style=\"text-align: right;\">\n",
       "      <th></th>\n",
       "      <th>tweet</th>\n",
       "    </tr>\n",
       "  </thead>\n",
       "  <tbody>\n",
       "    <tr>\n",
       "      <th>0</th>\n",
       "      <td>Global warming report urges governments to act...</td>\n",
       "    </tr>\n",
       "    <tr>\n",
       "      <th>1</th>\n",
       "      <td>Fighting poverty and global warming in Africa ...</td>\n",
       "    </tr>\n",
       "    <tr>\n",
       "      <th>2</th>\n",
       "      <td>Carbon offsets: How a Vatican forest failed to...</td>\n",
       "    </tr>\n",
       "    <tr>\n",
       "      <th>3</th>\n",
       "      <td>Carbon offsets: How a Vatican forest failed to...</td>\n",
       "    </tr>\n",
       "    <tr>\n",
       "      <th>4</th>\n",
       "      <td>URUGUAY: Tools Needed for Those Most Vulnerabl...</td>\n",
       "    </tr>\n",
       "  </tbody>\n",
       "</table>\n",
       "</div>"
      ],
      "text/plain": [
       "                                               tweet\n",
       "0  Global warming report urges governments to act...\n",
       "1  Fighting poverty and global warming in Africa ...\n",
       "2  Carbon offsets: How a Vatican forest failed to...\n",
       "3  Carbon offsets: How a Vatican forest failed to...\n",
       "4  URUGUAY: Tools Needed for Those Most Vulnerabl..."
      ]
     },
     "execution_count": 3,
     "metadata": {},
     "output_type": "execute_result"
    }
   ],
   "source": [
    "df = pd.read_csv('climate_tweets.csv')\n",
    "\n",
    "df.head()"
   ]
  },
  {
   "cell_type": "markdown",
   "id": "404bc516",
   "metadata": {},
   "source": [
    "# Finding the Most Popular Tweets"
   ]
  },
  {
   "cell_type": "markdown",
   "id": "a0826744",
   "metadata": {},
   "source": [
    "Let us look for the most retweeted tweets. We will apply a lambda function to the dataframe to find the keyword 'RT'."
   ]
  },
  {
   "cell_type": "code",
   "execution_count": 12,
   "id": "c7e7f954",
   "metadata": {},
   "outputs": [
    {
     "data": {
      "text/plain": [
       "773"
      ]
     },
     "execution_count": 12,
     "metadata": {},
     "output_type": "execute_result"
    }
   ],
   "source": [
    "df['retweet'] = df['tweet'].apply(lambda x: x[:2]=='RT')\n",
    "df['retweet'].sum()\n",
    "\n",
    "#number of retweets"
   ]
  },
  {
   "cell_type": "code",
   "execution_count": 49,
   "id": "98c7b6f0",
   "metadata": {},
   "outputs": [
    {
     "data": {
      "text/plain": [
       "677"
      ]
     },
     "execution_count": 49,
     "metadata": {},
     "output_type": "execute_result"
    }
   ],
   "source": [
    "df.loc[df['retweet'] == True].tweet.unique().size\n",
    "#number of unique retweets"
   ]
  },
  {
   "cell_type": "code",
   "execution_count": 81,
   "id": "5dbe2c39",
   "metadata": {},
   "outputs": [
    {
     "data": {
      "text/html": [
       "<div>\n",
       "<style scoped>\n",
       "    .dataframe tbody tr th:only-of-type {\n",
       "        vertical-align: middle;\n",
       "    }\n",
       "\n",
       "    .dataframe tbody tr th {\n",
       "        vertical-align: top;\n",
       "    }\n",
       "\n",
       "    .dataframe thead th {\n",
       "        text-align: right;\n",
       "    }\n",
       "</style>\n",
       "<table border=\"1\" class=\"dataframe\">\n",
       "  <thead>\n",
       "    <tr style=\"text-align: right;\">\n",
       "      <th></th>\n",
       "      <th>tweet</th>\n",
       "      <th>counts</th>\n",
       "    </tr>\n",
       "  </thead>\n",
       "  <tbody>\n",
       "    <tr>\n",
       "      <th>3131</th>\n",
       "      <td>No matter if you believe in global warming or ...</td>\n",
       "      <td>20</td>\n",
       "    </tr>\n",
       "    <tr>\n",
       "      <th>4555</th>\n",
       "      <td>Take Action @change: Help Protect Wildlife Hab...</td>\n",
       "      <td>14</td>\n",
       "    </tr>\n",
       "    <tr>\n",
       "      <th>4027</th>\n",
       "      <td>RT @newtgingrich: Historic snow storm in washi...</td>\n",
       "      <td>9</td>\n",
       "    </tr>\n",
       "    <tr>\n",
       "      <th>1765</th>\n",
       "      <td>Fight Climate Change From All Fronts: [link]</td>\n",
       "      <td>8</td>\n",
       "    </tr>\n",
       "    <tr>\n",
       "      <th>1626</th>\n",
       "      <td>Earth's polar ice sheets vulnerable to even mo...</td>\n",
       "      <td>7</td>\n",
       "    </tr>\n",
       "    <tr>\n",
       "      <th>1941</th>\n",
       "      <td>Global Warming Dent's El Ni'o's Protective Shi...</td>\n",
       "      <td>7</td>\n",
       "    </tr>\n",
       "    <tr>\n",
       "      <th>1799</th>\n",
       "      <td>Foes of California's global warming law pour m...</td>\n",
       "      <td>6</td>\n",
       "    </tr>\n",
       "    <tr>\n",
       "      <th>1351</th>\n",
       "      <td>Coalition of the Tired of Waiting: Fighting Cl...</td>\n",
       "      <td>6</td>\n",
       "    </tr>\n",
       "    <tr>\n",
       "      <th>4271</th>\n",
       "      <td>SCIENCE: Scientists explore the evolution of c...</td>\n",
       "      <td>6</td>\n",
       "    </tr>\n",
       "    <tr>\n",
       "      <th>1040</th>\n",
       "      <td>Carbon offsets: How a Vatican forest failed to...</td>\n",
       "      <td>6</td>\n",
       "    </tr>\n",
       "  </tbody>\n",
       "</table>\n",
       "</div>"
      ],
      "text/plain": [
       "                                                  tweet  counts\n",
       "3131  No matter if you believe in global warming or ...      20\n",
       "4555  Take Action @change: Help Protect Wildlife Hab...      14\n",
       "4027  RT @newtgingrich: Historic snow storm in washi...       9\n",
       "1765       Fight Climate Change From All Fronts: [link]       8\n",
       "1626  Earth's polar ice sheets vulnerable to even mo...       7\n",
       "1941  Global Warming Dent's El Ni'o's Protective Shi...       7\n",
       "1799  Foes of California's global warming law pour m...       6\n",
       "1351  Coalition of the Tired of Waiting: Fighting Cl...       6\n",
       "4271  SCIENCE: Scientists explore the evolution of c...       6\n",
       "1040  Carbon offsets: How a Vatican forest failed to...       6"
      ]
     },
     "execution_count": 81,
     "metadata": {},
     "output_type": "execute_result"
    }
   ],
   "source": [
    "df.groupby(['tweet']).size().reset_index(name='counts').sort_values('counts',ascending=False).head(10)\n",
    "\n",
    "#group all repeated tweets by size and then create a count column. Sort top 10 highest counts."
   ]
  },
  {
   "cell_type": "code",
   "execution_count": 83,
   "id": "d0071ece",
   "metadata": {},
   "outputs": [],
   "source": [
    "counts = df.groupby(['tweet']).size().reset_index(name='counts').counts"
   ]
  },
  {
   "cell_type": "code",
   "execution_count": 101,
   "id": "fa182eda",
   "metadata": {},
   "outputs": [
    {
     "name": "stdout",
     "output_type": "stream",
     "text": [
      "[-0.5  0.5  1.5  2.5  3.5  4.5  5.5  6.5  7.5  8.5  9.5 10.5 11.5 12.5\n",
      " 13.5 14.5 15.5 16.5 17.5 18.5 19.5 20.5]\n"
     ]
    }
   ],
   "source": [
    "bins = np.arange(0, counts.max()+2, 1)-0.5\n",
    "print(bins)"
   ]
  },
  {
   "cell_type": "code",
   "execution_count": 103,
   "id": "30c98c3e",
   "metadata": {},
   "outputs": [
    {
     "data": {
      "text/plain": [
       "<function matplotlib.pyplot.show(close=None, block=None)>"
      ]
     },
     "execution_count": 103,
     "metadata": {},
     "output_type": "execute_result"
    },
    {
     "data": {
      "image/png": "[encoded data removed]",
      "text/plain": [
       "<Figure size 640x480 with 1 Axes>"
      ]
     },
     "metadata": {},
     "output_type": "display_data"
    }
   ],
   "source": [
    "plt.figure()\n",
    "plt.hist(counts, bins)\n",
    "plt.xlabels = np.arange(1,counts.max()+1, 1)\n",
    "plt.xlabel('Number of Repeated Tweets')\n",
    "plt.ylabel('Frequency')\n",
    "plt.yscale('log')\n",
    "plt.show\n"
   ]
  },
  {
   "cell_type": "markdown",
   "id": "f0abc10a",
   "metadata": {},
   "source": [
    "# Identifying Who Has the Most Retweets and Most Popular Hashtags"
   ]
  },
  {
   "cell_type": "markdown",
   "id": "85089adc",
   "metadata": {},
   "source": [
    "Let us now look for who is being retweeted the most as well as the most popular hashtags."
   ]
  },
  {
   "cell_type": "code",
   "execution_count": null,
   "id": "fa12759d",
   "metadata": {},
   "outputs": [],
   "source": []
  }
 ],
 "metadata": {
  "kernelspec": {
   "display_name": "Python 3 (ipykernel)",
   "language": "python",
   "name": "python3"
  },
  "language_info": {
   "codemirror_mode": {
    "name": "ipython",
    "version": 3
   },
   "file_extension": ".py",
   "mimetype": "text/x-python",
   "name": "python",
   "nbconvert_exporter": "python",
   "pygments_lexer": "ipython3",
   "version": "3.9.13"
  }
 },
 "nbformat": 4,
 "nbformat_minor": 5
}
