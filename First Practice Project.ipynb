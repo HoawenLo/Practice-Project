{
 "cells": [
  {
   "cell_type": "code",
   "execution_count": 2,
   "id": "a6e144c7",
   "metadata": {},
   "outputs": [],
   "source": [
    "# packages to store and manipulate data\n",
    "import pandas as pd\n",
    "import numpy as np\n",
    "\n",
    "# plotting packages\n",
    "import matplotlib.pyplot as plt\n",
    "import seaborn as sns\n",
    "\n",
    "# model building package\n",
    "import sklearn\n",
    "\n",
    "# package to clean text\n",
    "import re"
   ]
  },
  {
   "cell_type": "code",
   "execution_count": 3,
   "id": "e24e4bc2-e723-4e00-be4a-859fc377ffd7",
   "metadata": {},
   "outputs": [
    {
     "data": {
      "text/html": [
       "<div>\n",
       "<style scoped>\n",
       "    .dataframe tbody tr th:only-of-type {\n",
       "        vertical-align: middle;\n",
       "    }\n",
       "\n",
       "    .dataframe tbody tr th {\n",
       "        vertical-align: top;\n",
       "    }\n",
       "\n",
       "    .dataframe thead th {\n",
       "        text-align: right;\n",
       "    }\n",
       "</style>\n",
       "<table border=\"1\" class=\"dataframe\">\n",
       "  <thead>\n",
       "    <tr style=\"text-align: right;\">\n",
       "      <th></th>\n",
       "      <th>tweet</th>\n",
       "    </tr>\n",
       "  </thead>\n",
       "  <tbody>\n",
       "    <tr>\n",
       "      <th>0</th>\n",
       "      <td>Global warming report urges governments to act...</td>\n",
       "    </tr>\n",
       "    <tr>\n",
       "      <th>1</th>\n",
       "      <td>Fighting poverty and global warming in Africa ...</td>\n",
       "    </tr>\n",
       "    <tr>\n",
       "      <th>2</th>\n",
       "      <td>Carbon offsets: How a Vatican forest failed to...</td>\n",
       "    </tr>\n",
       "    <tr>\n",
       "      <th>3</th>\n",
       "      <td>Carbon offsets: How a Vatican forest failed to...</td>\n",
       "    </tr>\n",
       "    <tr>\n",
       "      <th>4</th>\n",
       "      <td>URUGUAY: Tools Needed for Those Most Vulnerabl...</td>\n",
       "    </tr>\n",
       "  </tbody>\n",
       "</table>\n",
       "</div>"
      ],
      "text/plain": [
       "                                               tweet\n",
       "0  Global warming report urges governments to act...\n",
       "1  Fighting poverty and global warming in Africa ...\n",
       "2  Carbon offsets: How a Vatican forest failed to...\n",
       "3  Carbon offsets: How a Vatican forest failed to...\n",
       "4  URUGUAY: Tools Needed for Those Most Vulnerabl..."
      ]
     },
     "execution_count": 3,
     "metadata": {},
     "output_type": "execute_result"
    }
   ],
   "source": [
    "df = pd.read_csv('climate_tweets.csv')\n",
    "\n",
    "df.head()"
   ]
  },
  {
   "cell_type": "markdown",
   "id": "404bc516",
   "metadata": {},
   "source": [
    "# Finding the Most Popular Tweets"
   ]
  },
  {
   "cell_type": "markdown",
   "id": "a0826744",
   "metadata": {},
   "source": [
    "Let us look for the most retweeted tweets. We will apply a lambda function to the dataframe to find the keyword 'RT'."
   ]
  },
  {
   "cell_type": "code",
   "execution_count": 4,
   "id": "c7e7f954",
   "metadata": {},
   "outputs": [
    {
     "data": {
      "text/plain": [
       "773"
      ]
     },
     "execution_count": 4,
     "metadata": {},
     "output_type": "execute_result"
    }
   ],
   "source": [
    "df['retweet'] = df['tweet'].apply(lambda x: x[:2]=='RT')\n",
    "df['retweet'].sum()\n",
    "\n",
    "#number of retweets"
   ]
  },
  {
   "cell_type": "code",
   "execution_count": 5,
   "id": "98c7b6f0",
   "metadata": {},
   "outputs": [
    {
     "data": {
      "text/plain": [
       "677"
      ]
     },
     "execution_count": 5,
     "metadata": {},
     "output_type": "execute_result"
    }
   ],
   "source": [
    "df.loc[df['retweet'] == True].tweet.unique().size\n",
    "#number of unique retweets"
   ]
  },
  {
   "cell_type": "code",
   "execution_count": 6,
   "id": "5dbe2c39",
   "metadata": {},
   "outputs": [
    {
     "data": {
      "text/html": [
       "<div>\n",
       "<style scoped>\n",
       "    .dataframe tbody tr th:only-of-type {\n",
       "        vertical-align: middle;\n",
       "    }\n",
       "\n",
       "    .dataframe tbody tr th {\n",
       "        vertical-align: top;\n",
       "    }\n",
       "\n",
       "    .dataframe thead th {\n",
       "        text-align: right;\n",
       "    }\n",
       "</style>\n",
       "<table border=\"1\" class=\"dataframe\">\n",
       "  <thead>\n",
       "    <tr style=\"text-align: right;\">\n",
       "      <th></th>\n",
       "      <th>tweet</th>\n",
       "      <th>counts</th>\n",
       "    </tr>\n",
       "  </thead>\n",
       "  <tbody>\n",
       "    <tr>\n",
       "      <th>3131</th>\n",
       "      <td>No matter if you believe in global warming or ...</td>\n",
       "      <td>20</td>\n",
       "    </tr>\n",
       "    <tr>\n",
       "      <th>4555</th>\n",
       "      <td>Take Action @change: Help Protect Wildlife Hab...</td>\n",
       "      <td>14</td>\n",
       "    </tr>\n",
       "    <tr>\n",
       "      <th>4027</th>\n",
       "      <td>RT @newtgingrich: Historic snow storm in washi...</td>\n",
       "      <td>9</td>\n",
       "    </tr>\n",
       "    <tr>\n",
       "      <th>1765</th>\n",
       "      <td>Fight Climate Change From All Fronts: [link]</td>\n",
       "      <td>8</td>\n",
       "    </tr>\n",
       "    <tr>\n",
       "      <th>1626</th>\n",
       "      <td>Earth's polar ice sheets vulnerable to even mo...</td>\n",
       "      <td>7</td>\n",
       "    </tr>\n",
       "    <tr>\n",
       "      <th>1941</th>\n",
       "      <td>Global Warming Dent's El Ni'o's Protective Shi...</td>\n",
       "      <td>7</td>\n",
       "    </tr>\n",
       "    <tr>\n",
       "      <th>1799</th>\n",
       "      <td>Foes of California's global warming law pour m...</td>\n",
       "      <td>6</td>\n",
       "    </tr>\n",
       "    <tr>\n",
       "      <th>1351</th>\n",
       "      <td>Coalition of the Tired of Waiting: Fighting Cl...</td>\n",
       "      <td>6</td>\n",
       "    </tr>\n",
       "    <tr>\n",
       "      <th>4271</th>\n",
       "      <td>SCIENCE: Scientists explore the evolution of c...</td>\n",
       "      <td>6</td>\n",
       "    </tr>\n",
       "    <tr>\n",
       "      <th>1040</th>\n",
       "      <td>Carbon offsets: How a Vatican forest failed to...</td>\n",
       "      <td>6</td>\n",
       "    </tr>\n",
       "  </tbody>\n",
       "</table>\n",
       "</div>"
      ],
      "text/plain": [
       "                                                  tweet  counts\n",
       "3131  No matter if you believe in global warming or ...      20\n",
       "4555  Take Action @change: Help Protect Wildlife Hab...      14\n",
       "4027  RT @newtgingrich: Historic snow storm in washi...       9\n",
       "1765       Fight Climate Change From All Fronts: [link]       8\n",
       "1626  Earth's polar ice sheets vulnerable to even mo...       7\n",
       "1941  Global Warming Dent's El Ni'o's Protective Shi...       7\n",
       "1799  Foes of California's global warming law pour m...       6\n",
       "1351  Coalition of the Tired of Waiting: Fighting Cl...       6\n",
       "4271  SCIENCE: Scientists explore the evolution of c...       6\n",
       "1040  Carbon offsets: How a Vatican forest failed to...       6"
      ]
     },
     "execution_count": 6,
     "metadata": {},
     "output_type": "execute_result"
    }
   ],
   "source": [
    "df.groupby(['tweet']).size().reset_index(name='counts').sort_values('counts',ascending=False).head(10)\n",
    "\n",
    "#group all repeated tweets by size and then create a count column. Sort top 10 highest counts."
   ]
  },
  {
   "cell_type": "code",
   "execution_count": 7,
   "id": "d0071ece",
   "metadata": {},
   "outputs": [],
   "source": [
    "counts = df.groupby(['tweet']).size().reset_index(name='counts').counts"
   ]
  },
  {
   "cell_type": "code",
   "execution_count": 8,
   "id": "fa182eda",
   "metadata": {},
   "outputs": [
    {
     "name": "stdout",
     "output_type": "stream",
     "text": [
      "[-0.5  0.5  1.5  2.5  3.5  4.5  5.5  6.5  7.5  8.5  9.5 10.5 11.5 12.5\n",
      " 13.5 14.5 15.5 16.5 17.5 18.5 19.5 20.5]\n"
     ]
    }
   ],
   "source": [
    "bins = np.arange(0, counts.max()+2, 1)-0.5\n",
    "print(bins)"
   ]
  },
  {
   "cell_type": "code",
   "execution_count": 9,
   "id": "30c98c3e",
   "metadata": {},
   "outputs": [
    {
     "data": {
      "text/plain": [
       "<function matplotlib.pyplot.show(close=None, block=None)>"
      ]
     },
     "execution_count": 9,
     "metadata": {},
     "output_type": "execute_result"
    },
    {
     "data": {
      "image/png": "[encoded data removed]",
      "text/plain": [
       "<Figure size 640x480 with 1 Axes>"
      ]
     },
     "metadata": {},
     "output_type": "display_data"
    }
   ],
   "source": [
    "plt.figure()\n",
    "plt.hist(counts, bins)\n",
    "plt.xlabels = np.arange(1,counts.max()+1, 1)\n",
    "plt.xlabel('Number of Repeated Tweets')\n",
    "plt.ylabel('Frequency')\n",
    "plt.yscale('log')\n",
    "plt.show\n"
   ]
  },
  {
   "cell_type": "markdown",
   "id": "f0abc10a",
   "metadata": {},
   "source": [
    "# Identifying Who Has the Most Retweets and Most Popular Hashtags"
   ]
  },
  {
   "cell_type": "markdown",
   "id": "85089adc",
   "metadata": {},
   "source": [
    "Let us now look for who is being retweeted the most as well as the most popular hashtags."
   ]
  },
  {
   "cell_type": "code",
   "execution_count": 10,
   "id": "fa12759d",
   "metadata": {},
   "outputs": [],
   "source": [
    "def find_retweeted(tweet):\n",
    "    '''This function will extract the twitter handles of retweed people'''\n",
    "    return re.findall('(?<=RT\\s)(@[A-Za-z]+[A-Za-z0-9-_]+)', tweet)\n",
    "\n",
    "def find_mentioned(tweet):\n",
    "    '''This function will extract the twitter handles of people mentioned in the tweet'''\n",
    "    return re.findall('(?<!RT\\s)(@[A-Za-z]+[A-Za-z0-9-_]+)', tweet)  \n",
    "\n",
    "def find_hashtags(tweet):\n",
    "    '''This function will extract hashtags'''\n",
    "    return re.findall('(#[A-Za-z]+[A-Za-z0-9-_]+)', tweet)   "
   ]
  },
  {
   "cell_type": "code",
   "execution_count": 11,
   "id": "1e543aa9",
   "metadata": {},
   "outputs": [
    {
     "data": {
      "text/html": [
       "<div>\n",
       "<style scoped>\n",
       "    .dataframe tbody tr th:only-of-type {\n",
       "        vertical-align: middle;\n",
       "    }\n",
       "\n",
       "    .dataframe tbody tr th {\n",
       "        vertical-align: top;\n",
       "    }\n",
       "\n",
       "    .dataframe thead th {\n",
       "        text-align: right;\n",
       "    }\n",
       "</style>\n",
       "<table border=\"1\" class=\"dataframe\">\n",
       "  <thead>\n",
       "    <tr style=\"text-align: right;\">\n",
       "      <th></th>\n",
       "      <th>tweet</th>\n",
       "      <th>retweet</th>\n",
       "      <th>retweeted</th>\n",
       "      <th>mentioned</th>\n",
       "      <th>hashtags</th>\n",
       "    </tr>\n",
       "  </thead>\n",
       "  <tbody>\n",
       "    <tr>\n",
       "      <th>0</th>\n",
       "      <td>Global warming report urges governments to act...</td>\n",
       "      <td>False</td>\n",
       "      <td>[]</td>\n",
       "      <td>[]</td>\n",
       "      <td>[]</td>\n",
       "    </tr>\n",
       "    <tr>\n",
       "      <th>1</th>\n",
       "      <td>Fighting poverty and global warming in Africa ...</td>\n",
       "      <td>False</td>\n",
       "      <td>[]</td>\n",
       "      <td>[]</td>\n",
       "      <td>[]</td>\n",
       "    </tr>\n",
       "    <tr>\n",
       "      <th>2</th>\n",
       "      <td>Carbon offsets: How a Vatican forest failed to...</td>\n",
       "      <td>False</td>\n",
       "      <td>[]</td>\n",
       "      <td>[]</td>\n",
       "      <td>[]</td>\n",
       "    </tr>\n",
       "    <tr>\n",
       "      <th>3</th>\n",
       "      <td>Carbon offsets: How a Vatican forest failed to...</td>\n",
       "      <td>False</td>\n",
       "      <td>[]</td>\n",
       "      <td>[]</td>\n",
       "      <td>[]</td>\n",
       "    </tr>\n",
       "    <tr>\n",
       "      <th>4</th>\n",
       "      <td>URUGUAY: Tools Needed for Those Most Vulnerabl...</td>\n",
       "      <td>False</td>\n",
       "      <td>[]</td>\n",
       "      <td>[]</td>\n",
       "      <td>[]</td>\n",
       "    </tr>\n",
       "    <tr>\n",
       "      <th>...</th>\n",
       "      <td>...</td>\n",
       "      <td>...</td>\n",
       "      <td>...</td>\n",
       "      <td>...</td>\n",
       "      <td>...</td>\n",
       "    </tr>\n",
       "    <tr>\n",
       "      <th>6085</th>\n",
       "      <td>@bloodless_coup \"The phrase 'global warming' s...</td>\n",
       "      <td>False</td>\n",
       "      <td>[]</td>\n",
       "      <td>[@bloodless_coup]</td>\n",
       "      <td>[#p2, #tcot]</td>\n",
       "    </tr>\n",
       "    <tr>\n",
       "      <th>6086</th>\n",
       "      <td>Virginia to Investigate Global Warming Scienti...</td>\n",
       "      <td>False</td>\n",
       "      <td>[]</td>\n",
       "      <td>[]</td>\n",
       "      <td>[]</td>\n",
       "    </tr>\n",
       "    <tr>\n",
       "      <th>6087</th>\n",
       "      <td>Global warming you tube parody you will enjoy ...</td>\n",
       "      <td>False</td>\n",
       "      <td>[]</td>\n",
       "      <td>[]</td>\n",
       "      <td>[#IPCC, #ocra]</td>\n",
       "    </tr>\n",
       "    <tr>\n",
       "      <th>6088</th>\n",
       "      <td>One-Eyed Golfer: Don't dare tell me about glob...</td>\n",
       "      <td>False</td>\n",
       "      <td>[]</td>\n",
       "      <td>[]</td>\n",
       "      <td>[]</td>\n",
       "    </tr>\n",
       "    <tr>\n",
       "      <th>6089</th>\n",
       "      <td>man made global warming a hair brained theory ...</td>\n",
       "      <td>False</td>\n",
       "      <td>[]</td>\n",
       "      <td>[]</td>\n",
       "      <td>[#tcot, #p2, #climategate]</td>\n",
       "    </tr>\n",
       "  </tbody>\n",
       "</table>\n",
       "<p>6090 rows × 5 columns</p>\n",
       "</div>"
      ],
      "text/plain": [
       "                                                  tweet  retweet retweeted  \\\n",
       "0     Global warming report urges governments to act...    False        []   \n",
       "1     Fighting poverty and global warming in Africa ...    False        []   \n",
       "2     Carbon offsets: How a Vatican forest failed to...    False        []   \n",
       "3     Carbon offsets: How a Vatican forest failed to...    False        []   \n",
       "4     URUGUAY: Tools Needed for Those Most Vulnerabl...    False        []   \n",
       "...                                                 ...      ...       ...   \n",
       "6085  @bloodless_coup \"The phrase 'global warming' s...    False        []   \n",
       "6086  Virginia to Investigate Global Warming Scienti...    False        []   \n",
       "6087  Global warming you tube parody you will enjoy ...    False        []   \n",
       "6088  One-Eyed Golfer: Don't dare tell me about glob...    False        []   \n",
       "6089  man made global warming a hair brained theory ...    False        []   \n",
       "\n",
       "              mentioned                    hashtags  \n",
       "0                    []                          []  \n",
       "1                    []                          []  \n",
       "2                    []                          []  \n",
       "3                    []                          []  \n",
       "4                    []                          []  \n",
       "...                 ...                         ...  \n",
       "6085  [@bloodless_coup]                [#p2, #tcot]  \n",
       "6086                 []                          []  \n",
       "6087                 []              [#IPCC, #ocra]  \n",
       "6088                 []                          []  \n",
       "6089                 []  [#tcot, #p2, #climategate]  \n",
       "\n",
       "[6090 rows x 5 columns]"
      ]
     },
     "execution_count": 11,
     "metadata": {},
     "output_type": "execute_result"
    }
   ],
   "source": [
    "df['retweeted'] = df['tweet'].apply(find_retweeted)\n",
    "df['mentioned'] = df['tweet'].apply(find_mentioned)\n",
    "df['hashtags'] = df['tweet'].apply(find_hashtags)\n",
    "\n",
    "df"
   ]
  },
  {
   "cell_type": "markdown",
   "id": "802be586",
   "metadata": {},
   "source": [
    "# Keyword Correlations"
   ]
  },
  {
   "cell_type": "markdown",
   "id": "5a33ab8a",
   "metadata": {},
   "source": [
    "Let us now find the most mentioned users, most retweeted users and the highest hashtags."
   ]
  },
  {
   "cell_type": "markdown",
   "id": "53ab9978",
   "metadata": {},
   "source": [
    "## Hashtags"
   ]
  },
  {
   "cell_type": "code",
   "execution_count": 12,
   "id": "52924b8a",
   "metadata": {},
   "outputs": [
    {
     "data": {
      "text/html": [
       "<div>\n",
       "<style scoped>\n",
       "    .dataframe tbody tr th:only-of-type {\n",
       "        vertical-align: middle;\n",
       "    }\n",
       "\n",
       "    .dataframe tbody tr th {\n",
       "        vertical-align: top;\n",
       "    }\n",
       "\n",
       "    .dataframe thead th {\n",
       "        text-align: right;\n",
       "    }\n",
       "</style>\n",
       "<table border=\"1\" class=\"dataframe\">\n",
       "  <thead>\n",
       "    <tr style=\"text-align: right;\">\n",
       "      <th></th>\n",
       "      <th>hashtags</th>\n",
       "    </tr>\n",
       "  </thead>\n",
       "  <tbody>\n",
       "    <tr>\n",
       "      <th>12</th>\n",
       "      <td>[#Climate, #population]</td>\n",
       "    </tr>\n",
       "    <tr>\n",
       "      <th>16</th>\n",
       "      <td>[#EarthDay]</td>\n",
       "    </tr>\n",
       "    <tr>\n",
       "      <th>26</th>\n",
       "      <td>[#ac]</td>\n",
       "    </tr>\n",
       "    <tr>\n",
       "      <th>31</th>\n",
       "      <td>[#tcot]</td>\n",
       "    </tr>\n",
       "    <tr>\n",
       "      <th>36</th>\n",
       "      <td>[#tornadocot, #ocra, #sgp, #gop, #ucot, #tlot,...</td>\n",
       "    </tr>\n",
       "    <tr>\n",
       "      <th>...</th>\n",
       "      <td>...</td>\n",
       "    </tr>\n",
       "    <tr>\n",
       "      <th>6076</th>\n",
       "      <td>[#liberalFascism, #News, #tcot]</td>\n",
       "    </tr>\n",
       "    <tr>\n",
       "      <th>6083</th>\n",
       "      <td>[#climate]</td>\n",
       "    </tr>\n",
       "    <tr>\n",
       "      <th>6085</th>\n",
       "      <td>[#p2, #tcot]</td>\n",
       "    </tr>\n",
       "    <tr>\n",
       "      <th>6087</th>\n",
       "      <td>[#IPCC, #ocra]</td>\n",
       "    </tr>\n",
       "    <tr>\n",
       "      <th>6089</th>\n",
       "      <td>[#tcot, #p2, #climategate]</td>\n",
       "    </tr>\n",
       "  </tbody>\n",
       "</table>\n",
       "<p>1129 rows × 1 columns</p>\n",
       "</div>"
      ],
      "text/plain": [
       "                                               hashtags\n",
       "12                              [#Climate, #population]\n",
       "16                                          [#EarthDay]\n",
       "26                                                [#ac]\n",
       "31                                              [#tcot]\n",
       "36    [#tornadocot, #ocra, #sgp, #gop, #ucot, #tlot,...\n",
       "...                                                 ...\n",
       "6076                    [#liberalFascism, #News, #tcot]\n",
       "6083                                         [#climate]\n",
       "6085                                       [#p2, #tcot]\n",
       "6087                                     [#IPCC, #ocra]\n",
       "6089                         [#tcot, #p2, #climategate]\n",
       "\n",
       "[1129 rows x 1 columns]"
      ]
     },
     "execution_count": 12,
     "metadata": {},
     "output_type": "execute_result"
    }
   ],
   "source": [
    "\n",
    "hashtags_df = df.loc[df['hashtags'].apply(lambda hashtags_list: hashtags_list != []),['hashtags']]\n",
    "\n",
    "hashtags_df"
   ]
  },
  {
   "cell_type": "code",
   "execution_count": 13,
   "id": "47ec2721",
   "metadata": {},
   "outputs": [
    {
     "data": {
      "text/html": [
       "<div>\n",
       "<style scoped>\n",
       "    .dataframe tbody tr th:only-of-type {\n",
       "        vertical-align: middle;\n",
       "    }\n",
       "\n",
       "    .dataframe tbody tr th {\n",
       "        vertical-align: top;\n",
       "    }\n",
       "\n",
       "    .dataframe thead th {\n",
       "        text-align: right;\n",
       "    }\n",
       "</style>\n",
       "<table border=\"1\" class=\"dataframe\">\n",
       "  <thead>\n",
       "    <tr style=\"text-align: right;\">\n",
       "      <th></th>\n",
       "      <th>hashtags</th>\n",
       "    </tr>\n",
       "  </thead>\n",
       "  <tbody>\n",
       "    <tr>\n",
       "      <th>0</th>\n",
       "      <td>#Climate</td>\n",
       "    </tr>\n",
       "    <tr>\n",
       "      <th>1</th>\n",
       "      <td>#population</td>\n",
       "    </tr>\n",
       "    <tr>\n",
       "      <th>2</th>\n",
       "      <td>#EarthDay</td>\n",
       "    </tr>\n",
       "    <tr>\n",
       "      <th>3</th>\n",
       "      <td>#ac</td>\n",
       "    </tr>\n",
       "    <tr>\n",
       "      <th>4</th>\n",
       "      <td>#tcot</td>\n",
       "    </tr>\n",
       "    <tr>\n",
       "      <th>...</th>\n",
       "      <td>...</td>\n",
       "    </tr>\n",
       "    <tr>\n",
       "      <th>2062</th>\n",
       "      <td>#IPCC</td>\n",
       "    </tr>\n",
       "    <tr>\n",
       "      <th>2063</th>\n",
       "      <td>#ocra</td>\n",
       "    </tr>\n",
       "    <tr>\n",
       "      <th>2064</th>\n",
       "      <td>#tcot</td>\n",
       "    </tr>\n",
       "    <tr>\n",
       "      <th>2065</th>\n",
       "      <td>#p2</td>\n",
       "    </tr>\n",
       "    <tr>\n",
       "      <th>2066</th>\n",
       "      <td>#climategate</td>\n",
       "    </tr>\n",
       "  </tbody>\n",
       "</table>\n",
       "<p>2067 rows × 1 columns</p>\n",
       "</div>"
      ],
      "text/plain": [
       "          hashtags\n",
       "0         #Climate\n",
       "1      #population\n",
       "2        #EarthDay\n",
       "3              #ac\n",
       "4            #tcot\n",
       "...            ...\n",
       "2062         #IPCC\n",
       "2063         #ocra\n",
       "2064         #tcot\n",
       "2065           #p2\n",
       "2066  #climategate\n",
       "\n",
       "[2067 rows x 1 columns]"
      ]
     },
     "execution_count": 13,
     "metadata": {},
     "output_type": "execute_result"
    }
   ],
   "source": [
    "flattened_hashtags_df = pd.DataFrame([hashtag for hashtag_list in hashtags_df['hashtags'] for hashtag in hashtag_list], columns = ['hashtags'])\n",
    "flattened_hashtags_df"
   ]
  },
  {
   "cell_type": "code",
   "execution_count": 14,
   "id": "c2ee3e91",
   "metadata": {},
   "outputs": [
    {
     "data": {
      "text/plain": [
       "477"
      ]
     },
     "execution_count": 14,
     "metadata": {},
     "output_type": "execute_result"
    }
   ],
   "source": [
    "flattened_hashtags_df['hashtags'].unique().size"
   ]
  },
  {
   "cell_type": "code",
   "execution_count": 15,
   "id": "30010d68",
   "metadata": {},
   "outputs": [
    {
     "data": {
      "text/html": [
       "<div>\n",
       "<style scoped>\n",
       "    .dataframe tbody tr th:only-of-type {\n",
       "        vertical-align: middle;\n",
       "    }\n",
       "\n",
       "    .dataframe tbody tr th {\n",
       "        vertical-align: top;\n",
       "    }\n",
       "\n",
       "    .dataframe thead th {\n",
       "        text-align: right;\n",
       "    }\n",
       "</style>\n",
       "<table border=\"1\" class=\"dataframe\">\n",
       "  <thead>\n",
       "    <tr style=\"text-align: right;\">\n",
       "      <th></th>\n",
       "      <th>hashtags</th>\n",
       "      <th>counts</th>\n",
       "    </tr>\n",
       "  </thead>\n",
       "  <tbody>\n",
       "    <tr>\n",
       "      <th>0</th>\n",
       "      <td>#tcot</td>\n",
       "      <td>227</td>\n",
       "    </tr>\n",
       "    <tr>\n",
       "      <th>1</th>\n",
       "      <td>#climate</td>\n",
       "      <td>202</td>\n",
       "    </tr>\n",
       "    <tr>\n",
       "      <th>2</th>\n",
       "      <td>#p2</td>\n",
       "      <td>112</td>\n",
       "    </tr>\n",
       "    <tr>\n",
       "      <th>3</th>\n",
       "      <td>#green</td>\n",
       "      <td>50</td>\n",
       "    </tr>\n",
       "    <tr>\n",
       "      <th>4</th>\n",
       "      <td>#climatechange</td>\n",
       "      <td>47</td>\n",
       "    </tr>\n",
       "    <tr>\n",
       "      <th>...</th>\n",
       "      <td>...</td>\n",
       "      <td>...</td>\n",
       "    </tr>\n",
       "    <tr>\n",
       "      <th>472</th>\n",
       "      <td>#home</td>\n",
       "      <td>1</td>\n",
       "    </tr>\n",
       "    <tr>\n",
       "      <th>473</th>\n",
       "      <td>#hoth</td>\n",
       "      <td>1</td>\n",
       "    </tr>\n",
       "    <tr>\n",
       "      <th>474</th>\n",
       "      <td>#houston</td>\n",
       "      <td>1</td>\n",
       "    </tr>\n",
       "    <tr>\n",
       "      <th>475</th>\n",
       "      <td>#humanrights</td>\n",
       "      <td>1</td>\n",
       "    </tr>\n",
       "    <tr>\n",
       "      <th>476</th>\n",
       "      <td>#digg</td>\n",
       "      <td>1</td>\n",
       "    </tr>\n",
       "  </tbody>\n",
       "</table>\n",
       "<p>477 rows × 2 columns</p>\n",
       "</div>"
      ],
      "text/plain": [
       "           hashtags  counts\n",
       "0             #tcot     227\n",
       "1          #climate     202\n",
       "2               #p2     112\n",
       "3            #green      50\n",
       "4    #climatechange      47\n",
       "..              ...     ...\n",
       "472           #home       1\n",
       "473           #hoth       1\n",
       "474        #houston       1\n",
       "475    #humanrights       1\n",
       "476           #digg       1\n",
       "\n",
       "[477 rows x 2 columns]"
      ]
     },
     "execution_count": 15,
     "metadata": {},
     "output_type": "execute_result"
    }
   ],
   "source": [
    "popular_hashtags = flattened_hashtags_df.groupby(['hashtags']).size().reset_index(name='counts').sort_values('counts', ascending=False).reset_index(drop=True)\n",
    "popular_hashtags"
   ]
  },
  {
   "cell_type": "code",
   "execution_count": 16,
   "id": "8e4520f3",
   "metadata": {},
   "outputs": [
    {
     "data": {
      "text/plain": [
       "<function matplotlib.pyplot.show(close=None, block=None)>"
      ]
     },
     "execution_count": 16,
     "metadata": {},
     "output_type": "execute_result"
    },
    {
     "data": {
      "image/png": "[encoded data removed]",
      "text/plain": [
       "<Figure size 640x480 with 1 Axes>"
      ]
     },
     "metadata": {},
     "output_type": "display_data"
    }
   ],
   "source": [
    "counts = flattened_hashtags_df.groupby(['hashtags']).size().reset_index(name='counts').counts\n",
    "\n",
    "bins = np.arange(0, counts.max()+2,1)-0.5\n",
    "\n",
    "plt.figure\n",
    "plt.hist(counts, bins)\n",
    "\n",
    "plt.xlabel('number of hashtags found in all tweets')\n",
    "plt.ylabel('frequency')\n",
    "plt.yscale('log')\n",
    "plt.show"
   ]
  },
  {
   "cell_type": "markdown",
   "id": "83914a45",
   "metadata": {},
   "source": [
    "## Most Retweeted User "
   ]
  },
  {
   "cell_type": "code",
   "execution_count": 17,
   "id": "988b769d",
   "metadata": {},
   "outputs": [
    {
     "data": {
      "text/html": [
       "<div>\n",
       "<style scoped>\n",
       "    .dataframe tbody tr th:only-of-type {\n",
       "        vertical-align: middle;\n",
       "    }\n",
       "\n",
       "    .dataframe tbody tr th {\n",
       "        vertical-align: top;\n",
       "    }\n",
       "\n",
       "    .dataframe thead th {\n",
       "        text-align: right;\n",
       "    }\n",
       "</style>\n",
       "<table border=\"1\" class=\"dataframe\">\n",
       "  <thead>\n",
       "    <tr style=\"text-align: right;\">\n",
       "      <th></th>\n",
       "      <th>retweeted</th>\n",
       "    </tr>\n",
       "  </thead>\n",
       "  <tbody>\n",
       "    <tr>\n",
       "      <th>5</th>\n",
       "      <td>[@sejorg, @JaymiHeimbuch]</td>\n",
       "    </tr>\n",
       "    <tr>\n",
       "      <th>23</th>\n",
       "      <td>[@WGofNYC]</td>\n",
       "    </tr>\n",
       "    <tr>\n",
       "      <th>36</th>\n",
       "      <td>[@virgiltexas]</td>\n",
       "    </tr>\n",
       "    <tr>\n",
       "      <th>41</th>\n",
       "      <td>[@jazgar]</td>\n",
       "    </tr>\n",
       "    <tr>\n",
       "      <th>70</th>\n",
       "      <td>[@redostoneage]</td>\n",
       "    </tr>\n",
       "    <tr>\n",
       "      <th>...</th>\n",
       "      <td>...</td>\n",
       "    </tr>\n",
       "    <tr>\n",
       "      <th>6058</th>\n",
       "      <td>[@earthvitalsigns]</td>\n",
       "    </tr>\n",
       "    <tr>\n",
       "      <th>6068</th>\n",
       "      <td>[@JerryMander]</td>\n",
       "    </tr>\n",
       "    <tr>\n",
       "      <th>6072</th>\n",
       "      <td>[@brookedunne]</td>\n",
       "    </tr>\n",
       "    <tr>\n",
       "      <th>6076</th>\n",
       "      <td>[@johnnyA99]</td>\n",
       "    </tr>\n",
       "    <tr>\n",
       "      <th>6083</th>\n",
       "      <td>[@EPSclimate]</td>\n",
       "    </tr>\n",
       "  </tbody>\n",
       "</table>\n",
       "<p>861 rows × 1 columns</p>\n",
       "</div>"
      ],
      "text/plain": [
       "                      retweeted\n",
       "5     [@sejorg, @JaymiHeimbuch]\n",
       "23                   [@WGofNYC]\n",
       "36               [@virgiltexas]\n",
       "41                    [@jazgar]\n",
       "70              [@redostoneage]\n",
       "...                         ...\n",
       "6058         [@earthvitalsigns]\n",
       "6068             [@JerryMander]\n",
       "6072             [@brookedunne]\n",
       "6076               [@johnnyA99]\n",
       "6083              [@EPSclimate]\n",
       "\n",
       "[861 rows x 1 columns]"
      ]
     },
     "execution_count": 17,
     "metadata": {},
     "output_type": "execute_result"
    }
   ],
   "source": [
    "most_retweeted = df.loc[df['retweeted'].apply(lambda user: user != []),['retweeted']]\n",
    "most_retweeted"
   ]
  },
  {
   "cell_type": "code",
   "execution_count": 18,
   "id": "3be53505",
   "metadata": {},
   "outputs": [
    {
     "data": {
      "text/html": [
       "<div>\n",
       "<style scoped>\n",
       "    .dataframe tbody tr th:only-of-type {\n",
       "        vertical-align: middle;\n",
       "    }\n",
       "\n",
       "    .dataframe tbody tr th {\n",
       "        vertical-align: top;\n",
       "    }\n",
       "\n",
       "    .dataframe thead th {\n",
       "        text-align: right;\n",
       "    }\n",
       "</style>\n",
       "<table border=\"1\" class=\"dataframe\">\n",
       "  <thead>\n",
       "    <tr style=\"text-align: right;\">\n",
       "      <th></th>\n",
       "      <th>retweeted_user</th>\n",
       "    </tr>\n",
       "  </thead>\n",
       "  <tbody>\n",
       "    <tr>\n",
       "      <th>0</th>\n",
       "      <td>@sejorg</td>\n",
       "    </tr>\n",
       "    <tr>\n",
       "      <th>1</th>\n",
       "      <td>@JaymiHeimbuch</td>\n",
       "    </tr>\n",
       "    <tr>\n",
       "      <th>2</th>\n",
       "      <td>@WGofNYC</td>\n",
       "    </tr>\n",
       "    <tr>\n",
       "      <th>3</th>\n",
       "      <td>@virgiltexas</td>\n",
       "    </tr>\n",
       "    <tr>\n",
       "      <th>4</th>\n",
       "      <td>@jazgar</td>\n",
       "    </tr>\n",
       "    <tr>\n",
       "      <th>...</th>\n",
       "      <td>...</td>\n",
       "    </tr>\n",
       "    <tr>\n",
       "      <th>961</th>\n",
       "      <td>@earthvitalsigns</td>\n",
       "    </tr>\n",
       "    <tr>\n",
       "      <th>962</th>\n",
       "      <td>@JerryMander</td>\n",
       "    </tr>\n",
       "    <tr>\n",
       "      <th>963</th>\n",
       "      <td>@brookedunne</td>\n",
       "    </tr>\n",
       "    <tr>\n",
       "      <th>964</th>\n",
       "      <td>@johnnyA99</td>\n",
       "    </tr>\n",
       "    <tr>\n",
       "      <th>965</th>\n",
       "      <td>@EPSclimate</td>\n",
       "    </tr>\n",
       "  </tbody>\n",
       "</table>\n",
       "<p>966 rows × 1 columns</p>\n",
       "</div>"
      ],
      "text/plain": [
       "       retweeted_user\n",
       "0             @sejorg\n",
       "1      @JaymiHeimbuch\n",
       "2            @WGofNYC\n",
       "3        @virgiltexas\n",
       "4             @jazgar\n",
       "..                ...\n",
       "961  @earthvitalsigns\n",
       "962      @JerryMander\n",
       "963      @brookedunne\n",
       "964        @johnnyA99\n",
       "965       @EPSclimate\n",
       "\n",
       "[966 rows x 1 columns]"
      ]
     },
     "execution_count": 18,
     "metadata": {},
     "output_type": "execute_result"
    }
   ],
   "source": [
    "most_retweeted_df = pd.DataFrame([user for user_list in most_retweeted['retweeted'] for user in user_list], columns = ['retweeted_user'])\n",
    "most_retweeted_df"
   ]
  },
  {
   "cell_type": "code",
   "execution_count": 19,
   "id": "f13ff66f",
   "metadata": {},
   "outputs": [
    {
     "data": {
      "text/plain": [
       "542"
      ]
     },
     "execution_count": 19,
     "metadata": {},
     "output_type": "execute_result"
    }
   ],
   "source": [
    "most_retweeted_df['retweeted_user'].unique().size"
   ]
  },
  {
   "cell_type": "code",
   "execution_count": 20,
   "id": "84b8e42e",
   "metadata": {},
   "outputs": [
    {
     "data": {
      "text/html": [
       "<div>\n",
       "<style scoped>\n",
       "    .dataframe tbody tr th:only-of-type {\n",
       "        vertical-align: middle;\n",
       "    }\n",
       "\n",
       "    .dataframe tbody tr th {\n",
       "        vertical-align: top;\n",
       "    }\n",
       "\n",
       "    .dataframe thead th {\n",
       "        text-align: right;\n",
       "    }\n",
       "</style>\n",
       "<table border=\"1\" class=\"dataframe\">\n",
       "  <thead>\n",
       "    <tr style=\"text-align: right;\">\n",
       "      <th></th>\n",
       "      <th>retweeted_user</th>\n",
       "      <th>counts</th>\n",
       "    </tr>\n",
       "  </thead>\n",
       "  <tbody>\n",
       "    <tr>\n",
       "      <th>0</th>\n",
       "      <td>@Drudge_Report</td>\n",
       "      <td>19</td>\n",
       "    </tr>\n",
       "    <tr>\n",
       "      <th>1</th>\n",
       "      <td>@Newsweek</td>\n",
       "      <td>18</td>\n",
       "    </tr>\n",
       "    <tr>\n",
       "      <th>2</th>\n",
       "      <td>@redostoneage</td>\n",
       "      <td>12</td>\n",
       "    </tr>\n",
       "    <tr>\n",
       "      <th>3</th>\n",
       "      <td>@newtgingrich</td>\n",
       "      <td>10</td>\n",
       "    </tr>\n",
       "    <tr>\n",
       "      <th>4</th>\n",
       "      <td>@mattyglesias</td>\n",
       "      <td>10</td>\n",
       "    </tr>\n",
       "    <tr>\n",
       "      <th>...</th>\n",
       "      <td>...</td>\n",
       "      <td>...</td>\n",
       "    </tr>\n",
       "    <tr>\n",
       "      <th>537</th>\n",
       "      <td>@RoseD1st1</td>\n",
       "      <td>1</td>\n",
       "    </tr>\n",
       "    <tr>\n",
       "      <th>538</th>\n",
       "      <td>@RosanneMF</td>\n",
       "      <td>1</td>\n",
       "    </tr>\n",
       "    <tr>\n",
       "      <th>539</th>\n",
       "      <td>@RightNowLady</td>\n",
       "      <td>1</td>\n",
       "    </tr>\n",
       "    <tr>\n",
       "      <th>540</th>\n",
       "      <td>@RickWarren</td>\n",
       "      <td>1</td>\n",
       "    </tr>\n",
       "    <tr>\n",
       "      <th>541</th>\n",
       "      <td>@zoeart</td>\n",
       "      <td>1</td>\n",
       "    </tr>\n",
       "  </tbody>\n",
       "</table>\n",
       "<p>542 rows × 2 columns</p>\n",
       "</div>"
      ],
      "text/plain": [
       "     retweeted_user  counts\n",
       "0    @Drudge_Report      19\n",
       "1         @Newsweek      18\n",
       "2     @redostoneage      12\n",
       "3     @newtgingrich      10\n",
       "4     @mattyglesias      10\n",
       "..              ...     ...\n",
       "537      @RoseD1st1       1\n",
       "538      @RosanneMF       1\n",
       "539   @RightNowLady       1\n",
       "540     @RickWarren       1\n",
       "541         @zoeart       1\n",
       "\n",
       "[542 rows x 2 columns]"
      ]
     },
     "execution_count": 20,
     "metadata": {},
     "output_type": "execute_result"
    }
   ],
   "source": [
    "popular_retweeted_users = most_retweeted_df.groupby('retweeted_user').size().reset_index(name='counts').sort_values('counts',ascending=False).reset_index(drop=True)\n",
    "popular_retweeted_users"
   ]
  },
  {
   "cell_type": "code",
   "execution_count": 21,
   "id": "e16bc624",
   "metadata": {},
   "outputs": [
    {
     "data": {
      "text/plain": [
       "<function matplotlib.pyplot.show(close=None, block=None)>"
      ]
     },
     "execution_count": 21,
     "metadata": {},
     "output_type": "execute_result"
    },
    {
     "data": {
      "image/png": "[encoded data removed]",
      "text/plain": [
       "<Figure size 640x480 with 1 Axes>"
      ]
     },
     "metadata": {},
     "output_type": "display_data"
    }
   ],
   "source": [
    "counts = most_retweeted_df.groupby(['retweeted_user']).size().reset_index(name='counts').counts\n",
    "\n",
    "bins = np.arange(0,counts.max()+2,1)-0.5\n",
    "\n",
    "plt.figure\n",
    "plt.hist(counts, bins)\n",
    "plt.xlabel('number of times retweeted user appeared')\n",
    "plt.ylabel('frequency')\n",
    "plt.yscale('log')\n",
    "plt.show"
   ]
  },
  {
   "cell_type": "markdown",
   "id": "0839e9a1",
   "metadata": {},
   "source": [
    "## Most Mentioned User"
   ]
  },
  {
   "cell_type": "code",
   "execution_count": 22,
   "id": "e7a37442",
   "metadata": {},
   "outputs": [
    {
     "data": {
      "text/html": [
       "<div>\n",
       "<style scoped>\n",
       "    .dataframe tbody tr th:only-of-type {\n",
       "        vertical-align: middle;\n",
       "    }\n",
       "\n",
       "    .dataframe tbody tr th {\n",
       "        vertical-align: top;\n",
       "    }\n",
       "\n",
       "    .dataframe thead th {\n",
       "        text-align: right;\n",
       "    }\n",
       "</style>\n",
       "<table border=\"1\" class=\"dataframe\">\n",
       "  <thead>\n",
       "    <tr style=\"text-align: right;\">\n",
       "      <th></th>\n",
       "      <th>mentioned</th>\n",
       "    </tr>\n",
       "  </thead>\n",
       "  <tbody>\n",
       "    <tr>\n",
       "      <th>24</th>\n",
       "      <td>[@GregMitch]</td>\n",
       "    </tr>\n",
       "    <tr>\n",
       "      <th>31</th>\n",
       "      <td>[@New_federalists]</td>\n",
       "    </tr>\n",
       "    <tr>\n",
       "      <th>42</th>\n",
       "      <td>[@OTOOLEFAN]</td>\n",
       "    </tr>\n",
       "    <tr>\n",
       "      <th>64</th>\n",
       "      <td>[@SooperMexican]</td>\n",
       "    </tr>\n",
       "    <tr>\n",
       "      <th>69</th>\n",
       "      <td>[@andychrism]</td>\n",
       "    </tr>\n",
       "    <tr>\n",
       "      <th>...</th>\n",
       "      <td>...</td>\n",
       "    </tr>\n",
       "    <tr>\n",
       "      <th>6028</th>\n",
       "      <td>[@Dr_Rose]</td>\n",
       "    </tr>\n",
       "    <tr>\n",
       "      <th>6031</th>\n",
       "      <td>[@redostoneage, @JulesBeaujolais]</td>\n",
       "    </tr>\n",
       "    <tr>\n",
       "      <th>6037</th>\n",
       "      <td>[@Heritage]</td>\n",
       "    </tr>\n",
       "    <tr>\n",
       "      <th>6066</th>\n",
       "      <td>[@CredoAction, @CourageCampaign]</td>\n",
       "    </tr>\n",
       "    <tr>\n",
       "      <th>6085</th>\n",
       "      <td>[@bloodless_coup]</td>\n",
       "    </tr>\n",
       "  </tbody>\n",
       "</table>\n",
       "<p>1113 rows × 1 columns</p>\n",
       "</div>"
      ],
      "text/plain": [
       "                              mentioned\n",
       "24                         [@GregMitch]\n",
       "31                   [@New_federalists]\n",
       "42                         [@OTOOLEFAN]\n",
       "64                     [@SooperMexican]\n",
       "69                        [@andychrism]\n",
       "...                                 ...\n",
       "6028                         [@Dr_Rose]\n",
       "6031  [@redostoneage, @JulesBeaujolais]\n",
       "6037                        [@Heritage]\n",
       "6066   [@CredoAction, @CourageCampaign]\n",
       "6085                  [@bloodless_coup]\n",
       "\n",
       "[1113 rows x 1 columns]"
      ]
     },
     "execution_count": 22,
     "metadata": {},
     "output_type": "execute_result"
    }
   ],
   "source": [
    "mentioned_users = df.loc[df['mentioned'].apply(lambda user: user!=[]), ['mentioned']]\n",
    "mentioned_users"
   ]
  },
  {
   "cell_type": "code",
   "execution_count": 23,
   "id": "cc154471",
   "metadata": {},
   "outputs": [
    {
     "data": {
      "text/html": [
       "<div>\n",
       "<style scoped>\n",
       "    .dataframe tbody tr th:only-of-type {\n",
       "        vertical-align: middle;\n",
       "    }\n",
       "\n",
       "    .dataframe tbody tr th {\n",
       "        vertical-align: top;\n",
       "    }\n",
       "\n",
       "    .dataframe thead th {\n",
       "        text-align: right;\n",
       "    }\n",
       "</style>\n",
       "<table border=\"1\" class=\"dataframe\">\n",
       "  <thead>\n",
       "    <tr style=\"text-align: right;\">\n",
       "      <th></th>\n",
       "      <th>mentioned</th>\n",
       "    </tr>\n",
       "  </thead>\n",
       "  <tbody>\n",
       "    <tr>\n",
       "      <th>0</th>\n",
       "      <td>@GregMitch</td>\n",
       "    </tr>\n",
       "    <tr>\n",
       "      <th>1</th>\n",
       "      <td>@New_federalists</td>\n",
       "    </tr>\n",
       "    <tr>\n",
       "      <th>2</th>\n",
       "      <td>@OTOOLEFAN</td>\n",
       "    </tr>\n",
       "    <tr>\n",
       "      <th>3</th>\n",
       "      <td>@SooperMexican</td>\n",
       "    </tr>\n",
       "    <tr>\n",
       "      <th>4</th>\n",
       "      <td>@andychrism</td>\n",
       "    </tr>\n",
       "    <tr>\n",
       "      <th>...</th>\n",
       "      <td>...</td>\n",
       "    </tr>\n",
       "    <tr>\n",
       "      <th>1168</th>\n",
       "      <td>@JulesBeaujolais</td>\n",
       "    </tr>\n",
       "    <tr>\n",
       "      <th>1169</th>\n",
       "      <td>@Heritage</td>\n",
       "    </tr>\n",
       "    <tr>\n",
       "      <th>1170</th>\n",
       "      <td>@CredoAction</td>\n",
       "    </tr>\n",
       "    <tr>\n",
       "      <th>1171</th>\n",
       "      <td>@CourageCampaign</td>\n",
       "    </tr>\n",
       "    <tr>\n",
       "      <th>1172</th>\n",
       "      <td>@bloodless_coup</td>\n",
       "    </tr>\n",
       "  </tbody>\n",
       "</table>\n",
       "<p>1173 rows × 1 columns</p>\n",
       "</div>"
      ],
      "text/plain": [
       "             mentioned\n",
       "0           @GregMitch\n",
       "1     @New_federalists\n",
       "2           @OTOOLEFAN\n",
       "3       @SooperMexican\n",
       "4          @andychrism\n",
       "...                ...\n",
       "1168  @JulesBeaujolais\n",
       "1169         @Heritage\n",
       "1170      @CredoAction\n",
       "1171  @CourageCampaign\n",
       "1172   @bloodless_coup\n",
       "\n",
       "[1173 rows x 1 columns]"
      ]
     },
     "execution_count": 23,
     "metadata": {},
     "output_type": "execute_result"
    }
   ],
   "source": [
    "flattened_mentioned_users = pd.DataFrame([user for user_list in mentioned_users['mentioned'] for user in user_list], columns = ['mentioned'])\n",
    "flattened_mentioned_users"
   ]
  },
  {
   "cell_type": "code",
   "execution_count": 24,
   "id": "fdb6cddd",
   "metadata": {},
   "outputs": [
    {
     "data": {
      "text/plain": [
       "766"
      ]
     },
     "execution_count": 24,
     "metadata": {},
     "output_type": "execute_result"
    }
   ],
   "source": [
    "flattened_mentioned_users['mentioned'].unique().size"
   ]
  },
  {
   "cell_type": "code",
   "execution_count": 25,
   "id": "37152c59",
   "metadata": {},
   "outputs": [
    {
     "data": {
      "text/html": [
       "<div>\n",
       "<style scoped>\n",
       "    .dataframe tbody tr th:only-of-type {\n",
       "        vertical-align: middle;\n",
       "    }\n",
       "\n",
       "    .dataframe tbody tr th {\n",
       "        vertical-align: top;\n",
       "    }\n",
       "\n",
       "    .dataframe thead th {\n",
       "        text-align: right;\n",
       "    }\n",
       "</style>\n",
       "<table border=\"1\" class=\"dataframe\">\n",
       "  <thead>\n",
       "    <tr style=\"text-align: right;\">\n",
       "      <th></th>\n",
       "      <th>mentioned</th>\n",
       "      <th>count</th>\n",
       "    </tr>\n",
       "  </thead>\n",
       "  <tbody>\n",
       "    <tr>\n",
       "      <th>0</th>\n",
       "      <td>@NewsOnGreen</td>\n",
       "      <td>37</td>\n",
       "    </tr>\n",
       "    <tr>\n",
       "      <th>1</th>\n",
       "      <td>@change</td>\n",
       "      <td>33</td>\n",
       "    </tr>\n",
       "    <tr>\n",
       "      <th>2</th>\n",
       "      <td>@addthis</td>\n",
       "      <td>19</td>\n",
       "    </tr>\n",
       "    <tr>\n",
       "      <th>3</th>\n",
       "      <td>@HumanityNews</td>\n",
       "      <td>17</td>\n",
       "    </tr>\n",
       "    <tr>\n",
       "      <th>4</th>\n",
       "      <td>@TIME</td>\n",
       "      <td>9</td>\n",
       "    </tr>\n",
       "    <tr>\n",
       "      <th>...</th>\n",
       "      <td>...</td>\n",
       "      <td>...</td>\n",
       "    </tr>\n",
       "    <tr>\n",
       "      <th>761</th>\n",
       "      <td>@TelegraphWorld</td>\n",
       "      <td>1</td>\n",
       "    </tr>\n",
       "    <tr>\n",
       "      <th>762</th>\n",
       "      <td>@TeriChristoph</td>\n",
       "      <td>1</td>\n",
       "    </tr>\n",
       "    <tr>\n",
       "      <th>763</th>\n",
       "      <td>@TerriSueWho</td>\n",
       "      <td>1</td>\n",
       "    </tr>\n",
       "    <tr>\n",
       "      <th>764</th>\n",
       "      <td>@ThatKevinSmith</td>\n",
       "      <td>1</td>\n",
       "    </tr>\n",
       "    <tr>\n",
       "      <th>765</th>\n",
       "      <td>@bryanrwalsh</td>\n",
       "      <td>1</td>\n",
       "    </tr>\n",
       "  </tbody>\n",
       "</table>\n",
       "<p>766 rows × 2 columns</p>\n",
       "</div>"
      ],
      "text/plain": [
       "           mentioned  count\n",
       "0       @NewsOnGreen     37\n",
       "1            @change     33\n",
       "2           @addthis     19\n",
       "3      @HumanityNews     17\n",
       "4              @TIME      9\n",
       "..               ...    ...\n",
       "761  @TelegraphWorld      1\n",
       "762   @TeriChristoph      1\n",
       "763     @TerriSueWho      1\n",
       "764  @ThatKevinSmith      1\n",
       "765     @bryanrwalsh      1\n",
       "\n",
       "[766 rows x 2 columns]"
      ]
     },
     "execution_count": 25,
     "metadata": {},
     "output_type": "execute_result"
    }
   ],
   "source": [
    "flattened_mentioned_users.groupby('mentioned').size().reset_index(name='count').sort_values('count',ascending=False).reset_index(drop=True)"
   ]
  },
  {
   "cell_type": "code",
   "execution_count": 41,
   "id": "8e101a7d",
   "metadata": {},
   "outputs": [
    {
     "data": {
      "text/plain": [
       "<function matplotlib.pyplot.show(close=None, block=None)>"
      ]
     },
     "execution_count": 41,
     "metadata": {},
     "output_type": "execute_result"
    },
    {
     "data": {
      "image/png": "[encoded data removed]",
      "text/plain": [
       "<Figure size 640x480 with 1 Axes>"
      ]
     },
     "metadata": {},
     "output_type": "display_data"
    }
   ],
   "source": [
    "counts_for_fmu = flattened_mentioned_users.groupby(['mentioned']).size().reset_index(name='counts').counts\n",
    "\n",
    "bins = np.arange(0, counts_for_fmu.max()+2 ,1)-0.5\n",
    "\n",
    "plt.figure\n",
    "plt.hist(counts_for_fmu, bins)\n",
    "plt.xlabel('frequency of mentioned users')\n",
    "plt.ylabel('frequency of frequency of mentioned users')\n",
    "plt.yscale('log')\n",
    "plt.show"
   ]
  },
  {
   "cell_type": "code",
   "execution_count": null,
   "id": "929c18f4",
   "metadata": {},
   "outputs": [],
   "source": []
  }
 ],
 "metadata": {
  "kernelspec": {
   "display_name": "Python 3 (ipykernel)",
   "language": "python",
   "name": "python3"
  },
  "language_info": {
   "codemirror_mode": {
    "name": "ipython",
    "version": 3
   },
   "file_extension": ".py",
   "mimetype": "text/x-python",
   "name": "python",
   "nbconvert_exporter": "python",
   "pygments_lexer": "ipython3",
   "version": "3.9.13"
  }
 },
 "nbformat": 4,
 "nbformat_minor": 5
}
